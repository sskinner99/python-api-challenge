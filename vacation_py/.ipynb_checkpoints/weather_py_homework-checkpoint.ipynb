{
 "cells": [
  {
   "cell_type": "code",
   "execution_count": null,
   "metadata": {},
   "outputs": [],
   "source": [
    "# Part I - WeatherPy\n",
    "# In this example, you'll be creating a Python script to visualize the weather of 500+ cities across the world of varying distance from the equator. To accomplish this, you'll be utilizing a simple Python library, the OpenWeatherMap API, and a little common sense to create a representative model of weather across world cities.\n",
    "# The first requirement is to create a series of scatter plots to showcase the following relationships:\n",
    "\n",
    "# Temperature (F) vs. Latitude\n",
    "# Humidity (%) vs. Latitude\n",
    "# Cloudiness (%) vs. Latitude\n",
    "# Wind Speed (mph) vs. Latitude\n",
    "\n",
    "# After each plot, add a sentence or two explaining what the code is analyzing.\n",
    "# The second requirement is to run linear regression on each relationship. This time, separate the plots into Northern Hemisphere (greater than or equal to 0 degrees latitude) and Southern Hemisphere (less than 0 degrees latitude):\n",
    "\n",
    "# Northern Hemisphere - Temperature (F) vs. Latitude\n",
    "# Southern Hemisphere - Temperature (F) vs. Latitude\n",
    "# Northern Hemisphere - Humidity (%) vs. Latitude\n",
    "# Southern Hemisphere - Humidity (%) vs. Latitude\n",
    "# Northern Hemisphere - Cloudiness (%) vs. Latitude\n",
    "# Southern Hemisphere - Cloudiness (%) vs. Latitude\n",
    "# Northern Hemisphere - Wind Speed (mph) vs. Latitude\n",
    "# Southern Hemisphere - Wind Speed (mph) vs. Latitude\n",
    "\n",
    "# After each pair of plots, take the time to explain what the linear regression is modeling. For example, describe any relationships you notice and any other analysis you may have.\n",
    "# Your final notebook must:\n",
    "\n",
    "# Randomly select at least 500 unique (non-repeat) cities based on latitude and longitude.\n",
    "# Perform a weather check on each of the cities using a series of successive API calls.\n",
    "# Include a print log of each city as it's being processed with the city number and city name.\n",
    "# Save a CSV of all retrieved data and a PNG image for each scatter plot."
   ]
  },
  {
   "cell_type": "code",
   "execution_count": 3,
   "metadata": {},
   "outputs": [
    {
     "ename": "ModuleNotFoundError",
     "evalue": "No module named 'api_keys'",
     "output_type": "error",
     "traceback": [
      "\u001b[1;31m---------------------------------------------------------------------------\u001b[0m",
      "\u001b[1;31mModuleNotFoundError\u001b[0m                       Traceback (most recent call last)",
      "\u001b[1;32m<ipython-input-3-b1fcc9f2c984>\u001b[0m in \u001b[0;36m<module>\u001b[1;34m\u001b[0m\n\u001b[0;32m      9\u001b[0m \u001b[1;33m\u001b[0m\u001b[0m\n\u001b[0;32m     10\u001b[0m \u001b[1;31m# Import API key\u001b[0m\u001b[1;33m\u001b[0m\u001b[1;33m\u001b[0m\u001b[1;33m\u001b[0m\u001b[0m\n\u001b[1;32m---> 11\u001b[1;33m \u001b[1;32mfrom\u001b[0m \u001b[0mapi_keys\u001b[0m \u001b[1;32mimport\u001b[0m \u001b[0mweather_api_key\u001b[0m\u001b[1;33m\u001b[0m\u001b[1;33m\u001b[0m\u001b[0m\n\u001b[0m\u001b[0;32m     12\u001b[0m \u001b[1;32mfrom\u001b[0m \u001b[0mapi_keys\u001b[0m \u001b[1;32mimport\u001b[0m \u001b[0mg_key\u001b[0m\u001b[1;33m\u001b[0m\u001b[1;33m\u001b[0m\u001b[0m\n\u001b[0;32m     13\u001b[0m \u001b[1;33m\u001b[0m\u001b[0m\n",
      "\u001b[1;31mModuleNotFoundError\u001b[0m: No module named 'api_keys'"
     ]
    }
   ],
   "source": [
    "# Dependencies and Setup\n",
    "import json\n",
    "import matplotlib.pyplot as plt\n",
    "import pandas as pd\n",
    "import numpy as np\n",
    "import requests\n",
    "import time\n",
    "from scipy.stats import linregress\n",
    "\n",
    "# Import API key\n",
    "from api_keys import weather_api_key\n",
    "from api_keys import g_key\n",
    "\n",
    "# Incorporated citipy to determine city based on latitude and longitude\n",
    "from citipy import citipy\n",
    "\n",
    "# Output File (CSV)\n",
    "output_data_file = \"output_data/cities.csv\"\n",
    "\n",
    "# Range of latitudes and longitudes\n",
    "lat_range = (-90, 90)\n",
    "lng_range = (-180, 180)"
   ]
  },
  {
   "cell_type": "code",
   "execution_count": null,
   "metadata": {},
   "outputs": [],
   "source": [
    "# List for holding lat_lngs and cities\n",
    "lat_lngs = []\n",
    "cities = []\n",
    "\n",
    "# Create a set of random lat and lng combinations\n",
    "lats = np.random.uniform(lat_range[0], lat_range[1], size=1500)\n",
    "lngs = np.random.uniform(lng_range[0], lng_range[1], size=1500)\n",
    "lat_lngs = zip(lats, lngs)\n",
    "\n",
    "# Identify nearest city for each lat, lng combination\n",
    "for lat_lng in lat_lngs:\n",
    "    city = citipy.nearest_city(lat_lng[0], lat_lng[1]).city_name\n",
    "    \n",
    "    # If the city is unique, then add it to a our cities list\n",
    "    if city not in cities:\n",
    "        cities.append(city)\n",
    "\n",
    "# Print the city count to confirm sufficient count\n",
    "len(cities)"
   ]
  },
  {
   "cell_type": "code",
   "execution_count": null,
   "metadata": {},
   "outputs": [],
   "source": [
    "#  Perform API Calls\n",
    "\n",
    "# Perform a weather check on each city using a series of successive API calls.\n",
    "# Include a print log of each city as it'sbeing processed (with the city number and city name).\n",
    "\n",
    "#Base URL\n",
    "base_url = \"http://api.openweathermap.org/data/2.5/weather?\"\n",
    "\n",
    "#counter to go through data\n",
    "record = 0\n",
    "sets = 1\n",
    "\n",
    "#Create dataframe\n",
    "weather_df = pd.DataFrame({\"City\": cities})\n",
    "\n",
    "weather_df[\"Country\"] = \"\"\n",
    "weather_df[\"Date\"] = \"\"      \n",
    "weather_df[\"Latitude\"] = \"\"\n",
    "weather_df[\"Longitude\"] = \"\"\n",
    "weather_df[\"Cloudiness (%)\"] = \"\"\n",
    "weather_df[\"Humidity (%)\"] = \"\"\n",
    "weather_df[\"Max Temp (F)\"] = \"\"\n",
    "weather_df[\"Wind Speed (mph)\"] = \"\"\n",
    "\n",
    "# Interate through Cities and retrieve data\n",
    "print(\"Beginning Data Retrieval\")\n",
    "print(\"-----------------------------\")\n",
    "\n",
    "\n",
    "for index, row in weather_df.iterrows():\n",
    "    \n",
    "    city = row[\"City\"]\n",
    "    \n",
    "    query_url = base_url + \"appid=\" + weather_api_key + \"&q=\" + city\n",
    "    weather_response = requests.get(query_url).json()\n",
    " \n",
    "    try:\n",
    "        print(f\"Processing Record {record}  of Set {sets} | {city}.\")\n",
    "        #print (query_url) \n",
    "        \n",
    "        weather_df.loc[index, \"Country\"] = weather_response[\"sys\"][\"country\"]     \n",
    "        weather_df.loc[index, \"Date\"] = datetime.datetime.fromtimestamp(weather_response[\"dt\"])\n",
    "        weather_df.loc[index, \"Latitude\"] = weather_response[\"coord\"][\"lat\"]\n",
    "        weather_df.loc[index, \"Longitude\"] = weather_response[\"coord\"][\"lon\"]\n",
    "        weather_df.loc[index, \"Cloudiness (%)\"] = weather_response[\"clouds\"][\"all\"]\n",
    "        weather_df.loc[index, \"Humidity (%)\"] = weather_response[\"main\"][\"humidity\"]\n",
    "        weather_df.loc[index, \"Max Temp (F)\"] = 1.8 * (weather_response[\"main\"][\"temp_max\"] - 273) + 32\n",
    "        weather_df.loc[index, \"Wind Speed (mph)\"] = weather_response[\"wind\"][\"speed\"]\n",
    "               \n",
    "    except:\n",
    "        print(f\"City not found...skipping {city}.\")\n",
    "#print (query_url) \n",
    "        \n",
    "    \n",
    "record = record + 1\n",
    "    if record == 50:\n",
    "        record = 0\n",
    "        sets = sets + 1 \n",
    "\n",
    "print(\"-----------------------------\")        \n",
    "print(\"Data Retrieval Complete\")\n",
    "print(\"-----------------------------\")"
   ]
  },
  {
   "cell_type": "code",
   "execution_count": null,
   "metadata": {},
   "outputs": [],
   "source": [
    "#Convert Raw Data to DataFrame\n",
    "# Export the city data into a .csv.\n",
    "# Display the DataFrame\n",
    "\n",
    "# Data Count\n",
    "weather_df.count()"
   ]
  },
  {
   "cell_type": "code",
   "execution_count": null,
   "metadata": {},
   "outputs": [],
   "source": []
  },
  {
   "cell_type": "code",
   "execution_count": null,
   "metadata": {},
   "outputs": [],
   "source": [
    "#Inspect the data and remove the cities where the humidity > 100%.\n",
    "\n",
    "#Skip this step if there are no cities that have humidity > 100%."
   ]
  },
  {
   "cell_type": "code",
   "execution_count": null,
   "metadata": {},
   "outputs": [],
   "source": [
    "#  Get the indices of cities that have humidity over 100%."
   ]
  },
  {
   "cell_type": "code",
   "execution_count": null,
   "metadata": {},
   "outputs": [],
   "source": [
    "# Make a new DataFrame equal to the city data to drop all humidity outliers by index.\n",
    "# Passing \"inplace=False\" will make a copy of the city_data DataFrame, which we call \"clean_city_data\"."
   ]
  },
  {
   "cell_type": "code",
   "execution_count": null,
   "metadata": {},
   "outputs": [],
   "source": [
    "# Plotting the Data\n",
    "\n",
    "# Use proper labeling of the plots using plot titles (including date of analysis) and axes labels.\n",
    "# Save the plotted figures as .pngs.\n",
    "\n",
    "#Latitude vs. Temperature scatter Plot\n",
    "today = time.strftime(\"%m/%d/%Y\")\n",
    "plt.scatter(pd.to_numeric(weather_df[\"Latitude\"]).astype(float), pd.to_numeric(weather_df[\"Max Temp (F)\"]).astype(float), facecolors=\"blue\", edgecolors=\"black\", alpha = 0.5)\n",
    "plt.xlabel(\"Latitude\")\n",
    "plt.ylabel(\"Max Temperature (F)\")\n",
    "plt.title(f\"City Latitude vs Max Temperature ({today})\")\n",
    "print(\"The plot proves that as we generally move away from the equator, temperature drops\")"
   ]
  },
  {
   "cell_type": "code",
   "execution_count": null,
   "metadata": {},
   "outputs": [],
   "source": [
    " #Latitude vs. Humidity scatter Plot\n",
    "today = time.strftime(\"%m/%d/%Y\")\n",
    "plt.scatter(pd.to_numeric(weather_df[\"Latitude\"]).astype(float), pd.to_numeric(weather_df[\"Humidity (%)\"]).astype(float), facecolors=\"blue\", edgecolors=\"black\", alpha = 0.5)\n",
    "plt.xlabel(\"Latitude\")\n",
    "plt.ylabel(\"Humidity (%)\")\n",
    "plt.title(f\"City Latitude vs Humidity (%) ({today})\")\n",
    "print(\"The plot shows that there is no real pattern that can describe the relationship between latitude and humidity\")"
   ]
  },
  {
   "cell_type": "code",
   "execution_count": null,
   "metadata": {},
   "outputs": [],
   "source": [
    "#Latitude vs. Cloudiness scatter Plot\n",
    "today = time.strftime(\"%m/%d/%Y\")\n",
    "plt.scatter(pd.to_numeric(weather_df[\"Latitude\"]).astype(float), pd.to_numeric(weather_df[\"Cloudiness (%)\"]).astype(float), facecolors=\"blue\", edgecolors=\"black\", alpha = 0.5)\n",
    "plt.xlabel(\"Latitude\")\n",
    "plt.ylabel(\"Cloudiness (%)\")\n",
    "plt.title(f\"City Latitude vs Cloudiness ({today})\")\n",
    "print(\"The plot shows that there is no real pattern that can describe the relationship between latitude and cloudiness\")"
   ]
  },
  {
   "cell_type": "code",
   "execution_count": null,
   "metadata": {},
   "outputs": [],
   "source": [
    " #Latitude vs. Wind Speed scatter Plot\n",
    "today = time.strftime(\"%m/%d/%Y\")\n",
    "plt.scatter(pd.to_numeric(weather_df[\"Latitude\"]).astype(float), pd.to_numeric(weather_df[\"Wind Speed (mph)\"]).astype(float), facecolors=\"blue\", edgecolors=\"black\", alpha = 0.5)\n",
    "plt.xlabel(\"Latitude\")\n",
    "plt.ylabel(\"Wind Speed (mph)\")\n",
    "plt.title(f\"City Latitude vs Wind Speed ({today})\")\n",
    "print(\"The plot shows that there is no real pattern that can describe the relationship between latitude and windspeed\")"
   ]
  },
  {
   "cell_type": "code",
   "execution_count": null,
   "metadata": {},
   "outputs": [],
   "source": [
    "#Linear Regression\n",
    "northern_df = weather_df.loc[pd.to_numeric(weather_df[\"Latitude\"]).astype(float) > 0, :]\n",
    "southern_df = weather_df.loc[pd.to_numeric(weather_df[\"Latitude\"]).astype(float) < 0, :]"
   ]
  },
  {
   "cell_type": "code",
   "execution_count": null,
   "metadata": {},
   "outputs": [],
   "source": [
    "#Northern Hemisphere - Max Temp vs. Latitude Linear Regression r-value\n",
    "x_values = pd.to_numeric(northern_df['Latitude']).astype(float)\n",
    "y_values = pd.to_numeric(northern_df['Max Temp (F)']).astype(float)\n",
    "(slope, intercept, rvalue, pvalue, stderr) = linregress(x_values, y_values)\n",
    "regress_values = x_values * slope + intercept\n",
    "line_eq = \"y = \" + str(round(slope,2)) + \"x + \" + str(round(intercept,2))\n",
    "print(f\"Regression line equation is: {line_eq}\")\n",
    "plt.scatter(x_values,y_values)\n",
    "plt.plot(x_values,regress_values,\"r-\")\n",
    "plt.annotate(line_eq,(6,10),fontsize=15,color=\"red\")\n",
    "plt.xlabel('Latitude')\n",
    "plt.ylabel('Max Temperature (F)')\n",
    "plt.title('Northern Hemisphere - Max Temp vs. Latitude Linear Regression')\n",
    "print(f\"The r-squared is: {rvalue}\")\n",
    "print(\"The regression displays a negative correlation.\")\n",
    "print(\"In the nothern hemisphere, as you move away from the equator the temperature decreases.\")\n",
    "plt.show()"
   ]
  },
  {
   "cell_type": "code",
   "execution_count": null,
   "metadata": {},
   "outputs": [],
   "source": [
    "#Southern Hemisphere - Max Temp vs. Latitude Linear Regression\n",
    "x_values = pd.to_numeric(southern_df['Latitude']).astype(float)\n",
    "y_values = pd.to_numeric(southern_df['Max Temp (F)']).astype(float)\n",
    "(slope, intercept, rvalue, pvalue, stderr) = linregress(x_values, y_values)\n",
    "regress_values = x_values * slope + intercept\n",
    "line_eq = \"y = \" + str(round(slope,2)) + \"x + \" + str(round(intercept,2))\n",
    "print(f\"Regression line equation is: {line_eq}\")\n",
    "plt.scatter(x_values,y_values)\n",
    "plt.plot(x_values,regress_values,\"r-\")\n",
    "plt.annotate(line_eq,(6,10),fontsize=15,color=\"red\")\n",
    "plt.xlabel('Latitude')\n",
    "plt.ylabel('Max Temperature (F)')\n",
    "plt.title('Southern Hemisphere - Max Temp vs. Latitude Linear Regression')\n",
    "print(f\"The r-squared is: {rvalue}\")\n",
    "print(\"The regression displays a positive correlation.\")\n",
    "print(\"In the southern hemisphere, as you get closer to the equator the temperature increases.\")\n",
    "plt.show()"
   ]
  },
  {
   "cell_type": "code",
   "execution_count": null,
   "metadata": {},
   "outputs": [],
   "source": [
    "#Northern Hemisphere - Humidity (%) vs. Latitude Linear Regression\n",
    "x_values = pd.to_numeric(northern_df['Latitude']).astype(float)\n",
    "y_values = pd.to_numeric(northern_df['Humidity (%)']).astype(float)\n",
    "(slope, intercept, rvalue, pvalue, stderr) = linregress(x_values, y_values)\n",
    "regress_values = x_values * slope + intercept\n",
    "line_eq = \"y = \" + str(round(slope,2)) + \"x + \" + str(round(intercept,2))\n",
    "print(f\"Regression line equation is: {line_eq}\")\n",
    "plt.scatter(x_values,y_values)\n",
    "plt.plot(x_values,regress_values,\"r-\")\n",
    "plt.annotate(line_eq,(6,10),fontsize=15,color=\"red\")\n",
    "plt.xlabel('Latitude')\n",
    "plt.ylabel('Humidity (%)')\n",
    "plt.title('Northern Hemisphere - Humidity (%) vs. Latitude Linear Regression')\n",
    "print(f\"The r-squared is: {rvalue}\")\n",
    "print(\"The regression does not display much of a correlation between the data sets.\") \n",
    "plt.show()"
   ]
  },
  {
   "cell_type": "code",
   "execution_count": null,
   "metadata": {},
   "outputs": [],
   "source": [
    "#Southern Hemisphere - Humidity (%) vs. Latitude Linear Regression\n",
    "x_values = pd.to_numeric(southern_df['Latitude']).astype(float)\n",
    "y_values = pd.to_numeric(southern_df['Humidity (%)']).astype(float)\n",
    "(slope, intercept, rvalue, pvalue, stderr) = linregress(x_values, y_values)\n",
    "regress_values = x_values * slope + intercept\n",
    "line_eq = \"y = \" + str(round(slope,2)) + \"x + \" + str(round(intercept,2))\n",
    "print(f\"Regression line equation is: {line_eq}\")\n",
    "plt.scatter(x_values,y_values)\n",
    "plt.plot(x_values,regress_values,\"r-\")\n",
    "plt.annotate(line_eq,(6,10),fontsize=15,color=\"red\")\n",
    "plt.xlabel('Latitude')\n",
    "plt.ylabel('Humidity (%)')\n",
    "plt.title('Southern Hemisphere - Humidity (%) vs. Latitude Linear Regression')\n",
    "print(f\"The r-squared is: {rvalue}\")\n",
    "print(\"The regression does not display much of a correlation between the data sets.\")\n",
    "plt.show()"
   ]
  },
  {
   "cell_type": "code",
   "execution_count": null,
   "metadata": {},
   "outputs": [],
   "source": [
    "#Northern Hemisphere - Cloudiness (%) vs. Latitude Linear Regression\n",
    "x_values = pd.to_numeric(northern_df['Latitude']).astype(float)\n",
    "y_values = pd.to_numeric(northern_df['Cloudiness (%)']).astype(float)\n",
    "(slope, intercept, rvalue, pvalue, stderr) = linregress(x_values, y_values)\n",
    "regress_values = x_values * slope + intercept\n",
    "line_eq = \"y = \" + str(round(slope,2)) + \"x + \" + str(round(intercept,2))\n",
    "print(f\"Regression line equation is: {line_eq}\")\n",
    "plt.scatter(x_values,y_values)\n",
    "plt.plot(x_values,regress_values,\"r-\")\n",
    "plt.annotate(line_eq,(6,10),fontsize=15,color=\"red\")\n",
    "plt.xlabel('Latitude')\n",
    "plt.ylabel('Cloudiness (%)')\n",
    "plt.title('Northern Hemisphere - Cloudiness (%) vs. Latitude Linear Regression')\n",
    "print(f\"The r-squared is: {rvalue}\")\n",
    "print(\"The regression does not display much of a correlation between the data sets.\")\n",
    "plt.show()"
   ]
  },
  {
   "cell_type": "code",
   "execution_count": null,
   "metadata": {},
   "outputs": [],
   "source": [
    "#Southern Hemisphere - Cloudiness (%) vs. Latitude Linear Regression\n",
    "x_values = pd.to_numeric(southern_df['Latitude']).astype(float)\n",
    "y_values = pd.to_numeric(southern_df['Cloudiness (%)']).astype(float)\n",
    "(slope, intercept, rvalue, pvalue, stderr) = linregress(x_values, y_values)\n",
    "regress_values = x_values * slope + intercept\n",
    "line_eq = \"y = \" + str(round(slope,2)) + \"x + \" + str(round(intercept,2))\n",
    "print(f\"Regression line equation is: {line_eq}\")\n",
    "plt.scatter(x_values,y_values)\n",
    "plt.plot(x_values,regress_values,\"r-\")\n",
    "plt.annotate(line_eq,(6,10),fontsize=15,color=\"red\")\n",
    "plt.xlabel('Latitude')\n",
    "plt.ylabel('Cloudiness (%)')\n",
    "plt.title('Southern Hemisphere - Cloudiness (%) vs. Latitude Linear Regression')\n",
    "print(f\"The r-squared is: {rvalue}\")\n",
    "print(\"The regression does not display much of a correlation between the data sets.\")\n",
    "plt.show()"
   ]
  },
  {
   "cell_type": "code",
   "execution_count": null,
   "metadata": {},
   "outputs": [],
   "source": [
    "#Northern Hemisphere - Wind Speed (mph) vs. Latitude Linear Regression\n",
    "x_values = pd.to_numeric(northern_df['Latitude']).astype(float)\n",
    "y_values = pd.to_numeric(northern_df['Wind Speed (mph)']).astype(float)\n",
    "(slope, intercept, rvalue, pvalue, stderr) = linregress(x_values, y_values)\n",
    "regress_values = x_values * slope + intercept\n",
    "line_eq = \"y = \" + str(round(slope,2)) + \"x + \" + str(round(intercept,2))\n",
    "print(f\"Regression line equation is: {line_eq}\")\n",
    "plt.scatter(x_values,y_values)\n",
    "plt.plot(x_values,regress_values,\"r-\")\n",
    "plt.annotate(line_eq,(6,10),fontsize=15,color=\"red\")\n",
    "plt.xlabel('Latitude')\n",
    "plt.ylabel('Wind Speed (mph)')\n",
    "plt.title('Northern Hemisphere - Wind Speed (mph) vs. Latitude Linear Regression')\n",
    "print(f\"The r-squared is: {rvalue}\")\n",
    "print(\"The regression does not display much of a correlation between the data sets.\")\n",
    "plt.show()"
   ]
  },
  {
   "cell_type": "code",
   "execution_count": null,
   "metadata": {},
   "outputs": [],
   "source": [
    "#Southern Hemisphere - Wind Speed (mph) vs. Latitude Linear Regression\n",
    "y_values = pd.to_numeric(southern_df['Wind Speed (mph)']).astype(float)\n",
    "(slope, intercept, rvalue, pvalue, stderr) = linregress(x_values, y_values)\n",
    "regress_values = x_values * slope + intercept\n",
    "line_eq = \"y = \" + str(round(slope,2)) + \"x + \" + str(round(intercept,2))\n",
    "print(f\"Regression line equation is: {line_eq}\")\n",
    "plt.scatter(x_values,y_values)\n",
    "plt.plot(x_values,regress_values,\"r-\")\n",
    "plt.annotate(line_eq,(6,10),fontsize=15,color=\"red\")\n",
    "plt.xlabel('Latitude')\n",
    "plt.ylabel('Wind Speed (mph)')\n",
    "plt.title('Southern Hemisphere - Wind Speed (mph) vs. Latitude Linear Regression')\n",
    "print(f\"The r-squared is: {rvalue}\")\n",
    "print(\"The regression does not display much of a correlation between the data sets.\")\n",
    "plt.show()"
   ]
  },
  {
   "cell_type": "code",
   "execution_count": null,
   "metadata": {},
   "outputs": [],
   "source": []
  }
 ],
 "metadata": {
  "kernelspec": {
   "display_name": "Python 3",
   "language": "python",
   "name": "python3"
  }
 },
 "nbformat": 4,
 "nbformat_minor": 4
}
